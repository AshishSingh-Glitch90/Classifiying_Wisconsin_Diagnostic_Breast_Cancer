{
 "cells": [
  {
   "cell_type": "code",
   "execution_count": 1,
   "id": "right-richardson",
   "metadata": {},
   "outputs": [],
   "source": [
    "import pandas as pd\n",
    "import numpy as np\n",
    "import matplotlib.pyplot as plt\n",
    "from sklearn import preprocessing\n"
   ]
  },
  {
   "cell_type": "code",
   "execution_count": 2,
   "id": "aboriginal-papua",
   "metadata": {
    "scrolled": false
   },
   "outputs": [],
   "source": [
    "#Processing the original data into Pandas dataframe. \n",
    "\n",
    "data = pd.read_csv('wdbc.dataset')"
   ]
  },
  {
   "cell_type": "code",
   "execution_count": 3,
   "id": "sharp-library",
   "metadata": {},
   "outputs": [],
   "source": [
    "# Changing the diagnosis values to 0 and 1 from M and B so that they represent class(0) and class(1)\n",
    "\n",
    "from sklearn.preprocessing import LabelEncoder\n",
    "labelencoder_diagnosis = LabelEncoder()\n",
    "\n",
    "#values for 'M' will be represented by '1' and 'B' will be represented by value '0'\n",
    "\n",
    "data.iloc[:,1] = labelencoder_diagnosis.fit_transform(data.iloc[:,1].values)"
   ]
  },
  {
   "cell_type": "code",
   "execution_count": 4,
   "id": "colored-stockholm",
   "metadata": {},
   "outputs": [
    {
     "name": "stdout",
     "output_type": "stream",
     "text": [
      "       842302  M     17.99     10.38     122.8      1001    0.1184    0.2776  \\\n",
      "0      842517  1  0.643144  0.272574  0.615783  0.501591  0.289880  0.181768   \n",
      "1    84300903  1  0.601496  0.390260  0.595743  0.449417  0.514309  0.431017   \n",
      "2    84348301  1  0.210090  0.360839  0.233501  0.102906  0.811321  0.811361   \n",
      "3    84358402  1  0.629893  0.156578  0.630986  0.489290  0.430351  0.347893   \n",
      "4      843786  1  0.258839  0.202570  0.267984  0.141506  0.678613  0.461996   \n",
      "..        ... ..       ...       ...       ...       ...       ...       ...   \n",
      "563    926424  1  0.690000  0.428813  0.678668  0.566490  0.526948  0.296055   \n",
      "564    926682  1  0.622320  0.626987  0.604036  0.474019  0.407782  0.257714   \n",
      "565    926954  1  0.455251  0.621238  0.445788  0.303118  0.288165  0.254340   \n",
      "566    927241  1  0.644564  0.663510  0.665538  0.475716  0.588336  0.790197   \n",
      "567     92751  0  0.036869  0.501522  0.028540  0.015907  0.000000  0.074351   \n",
      "\n",
      "       0.3001    0.1471  ...     25.38     17.33     184.6      2019  \\\n",
      "0    0.203608  0.348757  ...  0.606901  0.303571  0.539818  0.435214   \n",
      "1    0.462512  0.635686  ...  0.556386  0.360075  0.508442  0.374508   \n",
      "2    0.565604  0.522863  ...  0.248310  0.385928  0.241347  0.094008   \n",
      "3    0.463918  0.518390  ...  0.519744  0.123934  0.506948  0.341575   \n",
      "4    0.369728  0.402038  ...  0.268232  0.312633  0.263908  0.136748   \n",
      "..        ...       ...  ...       ...       ...       ...       ...   \n",
      "563  0.571462  0.690358  ...  0.623266  0.383262  0.576174  0.452664   \n",
      "564  0.337395  0.486630  ...  0.560655  0.699094  0.520892  0.379915   \n",
      "565  0.216753  0.263519  ...  0.393099  0.589019  0.379949  0.230731   \n",
      "566  0.823336  0.755467  ...  0.633582  0.730277  0.668310  0.402035   \n",
      "567  0.000000  0.000000  ...  0.054287  0.489072  0.043578  0.020497   \n",
      "\n",
      "       0.1622    0.6656    0.7119    0.2654    0.4601    0.1189  \n",
      "0    0.347553  0.154563  0.192971  0.639175  0.233590  0.222878  \n",
      "1    0.483590  0.385375  0.359744  0.835052  0.403706  0.213433  \n",
      "2    0.915472  0.814012  0.548642  0.884880  1.000000  0.773711  \n",
      "3    0.437364  0.172415  0.319489  0.558419  0.157500  0.142595  \n",
      "4    0.712739  0.482784  0.427716  0.598282  0.477035  0.454939  \n",
      "..        ...       ...       ...       ...       ...       ...  \n",
      "563  0.461137  0.178527  0.328035  0.761512  0.097575  0.105667  \n",
      "564  0.300007  0.159997  0.256789  0.559450  0.198502  0.074315  \n",
      "565  0.282177  0.273705  0.271805  0.487285  0.128721  0.151909  \n",
      "566  0.619626  0.815758  0.749760  0.910653  0.497142  0.452315  \n",
      "567  0.124084  0.036043  0.000000  0.000000  0.257441  0.100682  \n",
      "\n",
      "[568 rows x 32 columns]\n"
     ]
    }
   ],
   "source": [
    "#feature scaling the data using sklearn library\n",
    "\n",
    "normalize = data.columns[2:]\n",
    "scaler = preprocessing.MinMaxScaler()\n",
    "scaled_data = scaler.fit_transform(data.iloc[:,2:])\n",
    "scaled_data = pd.DataFrame(scaled_data, columns=normalize)\n",
    "\n",
    "#replacing old data with the scaled data.\n",
    "\n",
    "data.iloc[:,2:] = scaled_data \n",
    "print(data)"
   ]
  },
  {
   "cell_type": "code",
   "execution_count": 5,
   "id": "disturbed-dominican",
   "metadata": {
    "scrolled": true
   },
   "outputs": [
    {
     "name": "stdout",
     "output_type": "stream",
     "text": [
      "x_train (454, 30)\n",
      "x_test (114, 30)\n",
      "y_train (454,)\n",
      "y_test (114,)\n"
     ]
    }
   ],
   "source": [
    "#splitting dataset into 80% training and 20% testing sets choosing randomly\n",
    "## splitting the data into independent x and target values y as well as transforming them to the array\n",
    "\n",
    "from sklearn.model_selection import train_test_split\n",
    "\n",
    "x = data.iloc[:,2:].values\n",
    "y = data.iloc[:,1].values\n",
    "\n",
    "x_train, x_test, y_train, y_test = train_test_split(x, y, test_size = 0.20, random_state = 0)\n",
    "\n",
    "print(\"x_train\",x_train.shape)\n",
    "print(\"x_test\", x_test.shape)\n",
    "print(\"y_train\",y_train.shape)\n",
    "print(\"y_test\", y_test.shape)"
   ]
  },
  {
   "cell_type": "code",
   "execution_count": 6,
   "id": "medium-allowance",
   "metadata": {},
   "outputs": [
    {
     "data": {
      "text/plain": [
       "SGDClassifier(max_iter=200)"
      ]
     },
     "execution_count": 6,
     "metadata": {},
     "output_type": "execute_result"
    }
   ],
   "source": [
    "#Training using scikit learn library\n",
    "# def sgd_classifier(x_train,y_train):\n",
    "\n",
    "from sklearn.linear_model import SGDClassifier\n",
    "model = SGDClassifier(loss=\"hinge\", penalty=\"l2\", max_iter=200)\n",
    "model.fit(x_train,y_train)        "
   ]
  },
  {
   "cell_type": "code",
   "execution_count": 7,
   "id": "arranged-witness",
   "metadata": {},
   "outputs": [
    {
     "name": "stdout",
     "output_type": "stream",
     "text": [
      "[0.99122807 0.95614035 0.95575221 0.98230088]\n"
     ]
    }
   ],
   "source": [
    "#Evaluating the performance using cross validation using cross_val_score\n",
    "\n",
    "from sklearn.model_selection import cross_val_score\n",
    "\n",
    "print (cross_val_score(model,x_train,y_train, cv=4))"
   ]
  },
  {
   "cell_type": "code",
   "execution_count": 8,
   "id": "french-macro",
   "metadata": {},
   "outputs": [
    {
     "name": "stdout",
     "output_type": "stream",
     "text": [
      "[0 0 1 0 1 1 0 0 0 0 0 1 1 0 1 0 0 0 0 0 1 0 0 1 1 0 0 1 1 0 1 1 0 0 1 1 0\n",
      " 1 1 0 0 0 1 0 0 1 0 1 0 1 1 0 0 0 1 0 0 0 0 0 1 0 0 0 0 0 0 0 0 0 0 1 1 0\n",
      " 0 0 0 0 1 1 1 0 1 0 0 0 0 1 1 1 0 0 1 1 1 0 0 0 0 0 1 1 0 0 1 0 0 0 1 1 0\n",
      " 1 1 1]\n"
     ]
    }
   ],
   "source": [
    "#Evaluating the performance using cross validation using cross_val_predict\n",
    "\n",
    "from sklearn.model_selection import cross_val_predict\n",
    "\n",
    "print(cross_val_predict(model, x_test, y_test, cv=4))"
   ]
  },
  {
   "cell_type": "code",
   "execution_count": 9,
   "id": "japanese-dining",
   "metadata": {},
   "outputs": [
    {
     "name": "stdout",
     "output_type": "stream",
     "text": [
      "confusion matrix [[69  2]\n",
      " [ 2 41]]\n",
      "Accuracy 0.9649122807017544\n",
      "Precision 0.971830985915493\n",
      "Recall 0.971830985915493\n"
     ]
    }
   ],
   "source": [
    "#getting confusion matrix that would work on the predictions made by our model on the testing data and the real testing data\n",
    "\n",
    "from sklearn.metrics import confusion_matrix\n",
    "y_test_pred = model.predict(x_test) # calculating predictions of model on testing data\n",
    "cm = confusion_matrix(y_test,y_test_pred) #confusion matrix\n",
    "\n",
    "\n",
    "TP = cm[0][0] #true positive\n",
    "TN = cm[1][1] #true negative\n",
    "FN = cm[1][0] #false negative\n",
    "FP = cm[0][1] #false positive\n",
    "\n",
    "print (\"confusion matrix\", cm)\n",
    "print (\"Accuracy\", ((TP + TN)/(TP + TN + FP + FN)))\n",
    "print (\"Precision\", ((TP)/(TP + FP)))\n",
    "print (\"Recall\", ((TP)/(TP + FN)))\n"
   ]
  },
  {
   "cell_type": "code",
   "execution_count": 10,
   "id": "therapeutic-survey",
   "metadata": {},
   "outputs": [
    {
     "name": "stdout",
     "output_type": "stream",
     "text": [
      "              precision    recall  f1-score   support\n",
      "\n",
      "           0       0.97      0.97      0.97        71\n",
      "           1       0.95      0.95      0.95        43\n",
      "\n",
      "    accuracy                           0.96       114\n",
      "   macro avg       0.96      0.96      0.96       114\n",
      "weighted avg       0.96      0.96      0.96       114\n",
      "\n",
      "Accuracy 0.9649122807017544\n"
     ]
    }
   ],
   "source": [
    "# another method to calculate the accuracy, precision and recall \n",
    "\n",
    "from sklearn.metrics import classification_report \n",
    "from sklearn.metrics import accuracy_score\n",
    "\n",
    "print(classification_report(y_test, model.predict(x_test)))\n",
    "print(\"Accuracy\",accuracy_score(y_test, model.predict(x_test)))"
   ]
  },
  {
   "cell_type": "markdown",
   "id": "immune-drawing",
   "metadata": {},
   "source": [
    "ROC CURVES"
   ]
  },
  {
   "cell_type": "code",
   "execution_count": null,
   "id": "returning-stretch",
   "metadata": {},
   "outputs": [
    {
     "data": {
      "image/png": "[encoded data removed]",
      "text/plain": [
       "<Figure size 864x432 with 1 Axes>"
      ]
     },
     "metadata": {
      "needs_background": "light"
     },
     "output_type": "display_data"
    },
    {
     "name": "stderr",
     "output_type": "stream",
     "text": [
      "<ipython-input-11-576782d4c7ac>:14: UserWarning: Matplotlib is currently using module://ipykernel.pylab.backend_inline, which is a non-GUI backend, so cannot show the figure.\n",
      "  plt.waitforbuttonpress()\n"
     ]
    }
   ],
   "source": [
    "from sklearn.metrics import roc_curve\n",
    "\n",
    "y_score = model.fit(x_train, y_train).decision_function(x_test) #getting predictions on test data\n",
    "\n",
    "false_alarms, hit_rate, thresholds = roc_curve(y_test, y_score) #passing the predictions and original target values to ROC function\n",
    "\n",
    "fig, ax = plt.subplots(1, figsize=(12, 6))\n",
    "plt.plot(false_alarms, hit_rate, color='blue', label='ROC curve for Breast Cancer Diagnostics')\n",
    "plt.plot([0, 1], [0, 1], 'k--')\n",
    "plt.xlabel(\"False Alarms\") #x-axis\n",
    "plt.ylabel('Hit Rate') #y-axis\n",
    "plt.legend(loc=\"lower right\")\n",
    "plt.show()\n",
    "plt.waitforbuttonpress()"
   ]
  }
 ],
 "metadata": {
  "kernelspec": {
   "display_name": "Python 3",
   "language": "python",
   "name": "python3"
  },
  "language_info": {
   "codemirror_mode": {
    "name": "ipython",
    "version": 3
   },
   "file_extension": ".py",
   "mimetype": "text/x-python",
   "name": "python",
   "nbconvert_exporter": "python",
   "pygments_lexer": "ipython3",
   "version": "3.8.5"
  }
 },
 "nbformat": 4,
 "nbformat_minor": 5
}
